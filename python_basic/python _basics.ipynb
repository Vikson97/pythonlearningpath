{
 "cells": [
  {
   "cell_type": "code",
   "execution_count": 1,
   "id": "9c296e52-56af-45c1-85dd-57e24a5106c0",
   "metadata": {},
   "outputs": [],
   "source": [
    "## this file is for baic program of python"
   ]
  },
  {
   "cell_type": "code",
   "execution_count": 2,
   "id": "6bd0aa27-337c-46e2-98c6-9420308efa44",
   "metadata": {},
   "outputs": [
    {
     "name": "stdout",
     "output_type": "stream",
     "text": [
      "hello world\n"
     ]
    }
   ],
   "source": [
    "print(\"hello world\")"
   ]
  },
  {
   "cell_type": "code",
   "execution_count": null,
   "id": "a678809c-3a37-4fa0-b81a-6d81eb47b2ab",
   "metadata": {},
   "outputs": [],
   "source": []
  }
 ],
 "metadata": {
  "kernelspec": {
   "display_name": "Python 3",
   "language": "python",
   "name": "python3"
  },
  "language_info": {
   "codemirror_mode": {
    "name": "ipython",
    "version": 3
   },
   "file_extension": ".py",
   "mimetype": "text/x-python",
   "name": "python",
   "nbconvert_exporter": "python",
   "pygments_lexer": "ipython3",
   "version": "3.6.9"
  }
 },
 "nbformat": 4,
 "nbformat_minor": 5
}
